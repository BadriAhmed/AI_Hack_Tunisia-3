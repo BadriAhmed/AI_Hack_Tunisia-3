{
 "cells": [
  {
   "cell_type": "markdown",
   "metadata": {},
   "source": [
    "## AI Hack Tunisia #3 - NLP challenge\n",
    "### Multi-Turn Response Selection Task with Tunisian dialect\n",
    "### [The challenge on Zindi.Africa](https://zindi.africa/competitions/ai-hack-tunisia-3-nlp-challenge)\n",
    "### Badri Ahmed"
   ]
  },
  {
   "cell_type": "markdown",
   "metadata": {},
   "source": [
    "#### Importing Librairies"
   ]
  },
  {
   "cell_type": "code",
   "execution_count": 1,
   "metadata": {},
   "outputs": [],
   "source": [
    "#Import Librairies\n",
    "import pickle\n",
    "import pandas as pd\n",
    "import numpy as np\n",
    "from wordcloud import WordCloud\n",
    "import matplotlib.pyplot as plt\n",
    "from collections import Counter \n",
    "from langdetect import detect\n",
    "from stop_words import get_stop_words\n",
    "import nltk\n",
    "from nltk import RegexpTokenizer\n",
    "import re\n",
    "import multiprocessing\n",
    "from gensim.models import Word2Vec\n",
    "from time import time\n",
    "#Disable warnings\n",
    "import warnings\n",
    "warnings.filterwarnings(\"ignore\") "
   ]
  },
  {
   "cell_type": "markdown",
   "metadata": {},
   "source": [
    "#### Let's extract the data and have a quick look"
   ]
  },
  {
   "cell_type": "code",
   "execution_count": 2,
   "metadata": {},
   "outputs": [],
   "source": [
    "with open('train.pkl', 'rb') as f:\n",
    "    data = pickle.load(f)"
   ]
  },
  {
   "cell_type": "code",
   "execution_count": 3,
   "metadata": {},
   "outputs": [
    {
     "data": {
      "text/html": [
       "<div>\n",
       "<style scoped>\n",
       "    .dataframe tbody tr th:only-of-type {\n",
       "        vertical-align: middle;\n",
       "    }\n",
       "\n",
       "    .dataframe tbody tr th {\n",
       "        vertical-align: top;\n",
       "    }\n",
       "\n",
       "    .dataframe thead th {\n",
       "        text-align: right;\n",
       "    }\n",
       "</style>\n",
       "<table border=\"1\" class=\"dataframe\">\n",
       "  <thead>\n",
       "    <tr style=\"text-align: right;\">\n",
       "      <th></th>\n",
       "      <th>Id</th>\n",
       "      <th>c</th>\n",
       "      <th>r</th>\n",
       "      <th>y</th>\n",
       "    </tr>\n",
       "  </thead>\n",
       "  <tbody>\n",
       "    <tr>\n",
       "      <th>84990</th>\n",
       "      <td>84990</td>\n",
       "      <td>_t_ نسالكم بيني الفلوس تاخذوهم _t_ مرحبا وجدا...</td>\n",
       "      <td>Composez *177*2# pour désactiver renouvellemen...</td>\n",
       "      <td>1</td>\n",
       "    </tr>\n",
       "    <tr>\n",
       "      <th>84991</th>\n",
       "      <td>84991</td>\n",
       "      <td>_t_ نسالكم بيني الفلوس تاخذوهم _t_ مرحبا وجدا...</td>\n",
       "      <td>mtei Télécom noumrouya mahbech ibthli coed ko...</td>\n",
       "      <td>0</td>\n",
       "    </tr>\n",
       "    <tr>\n",
       "      <th>84992</th>\n",
       "      <td>84992</td>\n",
       "      <td>_t_ نسالكم بيني الفلوس تاخذوهم _t_ مرحبا وجدا...</td>\n",
       "      <td>Mahlakoum</td>\n",
       "      <td>0</td>\n",
       "    </tr>\n",
       "    <tr>\n",
       "      <th>84993</th>\n",
       "      <td>84993</td>\n",
       "      <td>_t_ نسالكم بيني الفلوس تاخذوهم _t_ مرحبا وجدا...</td>\n",
       "      <td>bech nbdel puce o5rra Ooredoo yesser mstouha ...</td>\n",
       "      <td>0</td>\n",
       "    </tr>\n",
       "    <tr>\n",
       "      <th>84994</th>\n",
       "      <td>84994</td>\n",
       "      <td>_t_ نسالكم بيني الفلوس تاخذوهم _t_ مرحبا وجدا...</td>\n",
       "      <td>فيشطة ليوم وإلا تخدمو</td>\n",
       "      <td>0</td>\n",
       "    </tr>\n",
       "    <tr>\n",
       "      <th>84995</th>\n",
       "      <td>84995</td>\n",
       "      <td>_t_ نسالكم بيني الفلوس تاخذوهم _t_ مرحبا وجدا...</td>\n",
       "      <td>دينار</td>\n",
       "      <td>0</td>\n",
       "    </tr>\n",
       "    <tr>\n",
       "      <th>84996</th>\n",
       "      <td>84996</td>\n",
       "      <td>_t_ نسالكم بيني الفلوس تاخذوهم _t_ مرحبا وجدا...</td>\n",
       "      <td>Bonjour famechi facilité</td>\n",
       "      <td>0</td>\n",
       "    </tr>\n",
       "    <tr>\n",
       "      <th>84997</th>\n",
       "      <td>84997</td>\n",
       "      <td>_t_ نسالكم بيني الفلوس تاخذوهم _t_ مرحبا وجدا...</td>\n",
       "      <td>الكنكسيون طايح جملا</td>\n",
       "      <td>0</td>\n",
       "    </tr>\n",
       "    <tr>\n",
       "      <th>84998</th>\n",
       "      <td>84998</td>\n",
       "      <td>_t_ نسالكم بيني الفلوس تاخذوهم _t_ مرحبا وجدا...</td>\n",
       "      <td>الوقتاش العرض باقي شكرا</td>\n",
       "      <td>0</td>\n",
       "    </tr>\n",
       "    <tr>\n",
       "      <th>84999</th>\n",
       "      <td>84999</td>\n",
       "      <td>_t_ نسالكم بيني الفلوس تاخذوهم _t_ مرحبا وجدا...</td>\n",
       "      <td>Avec service Tasshil vous pouvez acheter port...</td>\n",
       "      <td>0</td>\n",
       "    </tr>\n",
       "  </tbody>\n",
       "</table>\n",
       "</div>"
      ],
      "text/plain": [
       "          Id                                                  c  \\\n",
       "84990  84990   _t_ نسالكم بيني الفلوس تاخذوهم _t_ مرحبا وجدا...   \n",
       "84991  84991   _t_ نسالكم بيني الفلوس تاخذوهم _t_ مرحبا وجدا...   \n",
       "84992  84992   _t_ نسالكم بيني الفلوس تاخذوهم _t_ مرحبا وجدا...   \n",
       "84993  84993   _t_ نسالكم بيني الفلوس تاخذوهم _t_ مرحبا وجدا...   \n",
       "84994  84994   _t_ نسالكم بيني الفلوس تاخذوهم _t_ مرحبا وجدا...   \n",
       "84995  84995   _t_ نسالكم بيني الفلوس تاخذوهم _t_ مرحبا وجدا...   \n",
       "84996  84996   _t_ نسالكم بيني الفلوس تاخذوهم _t_ مرحبا وجدا...   \n",
       "84997  84997   _t_ نسالكم بيني الفلوس تاخذوهم _t_ مرحبا وجدا...   \n",
       "84998  84998   _t_ نسالكم بيني الفلوس تاخذوهم _t_ مرحبا وجدا...   \n",
       "84999  84999   _t_ نسالكم بيني الفلوس تاخذوهم _t_ مرحبا وجدا...   \n",
       "\n",
       "                                                       r  y  \n",
       "84990  Composez *177*2# pour désactiver renouvellemen...  1  \n",
       "84991   mtei Télécom noumrouya mahbech ibthli coed ko...  0  \n",
       "84992                                          Mahlakoum  0  \n",
       "84993   bech nbdel puce o5rra Ooredoo yesser mstouha ...  0  \n",
       "84994                              فيشطة ليوم وإلا تخدمو  0  \n",
       "84995                                              دينار  0  \n",
       "84996                           Bonjour famechi facilité  0  \n",
       "84997                                الكنكسيون طايح جملا  0  \n",
       "84998                            الوقتاش العرض باقي شكرا  0  \n",
       "84999   Avec service Tasshil vous pouvez acheter port...  0  "
      ]
     },
     "execution_count": 3,
     "metadata": {},
     "output_type": "execute_result"
    }
   ],
   "source": [
    "data.tail(10)"
   ]
  },
  {
   "cell_type": "markdown",
   "metadata": {},
   "source": [
    "#### You can notice that the conversation in the \"c\" column is repeated 10 times, with 10 different answers in column \"r\". The correct answer corresponds to the value '1' in the \"y\" column"
   ]
  },
  {
   "cell_type": "markdown",
   "metadata": {},
   "source": [
    "#### First thing, we will transform all our text to lower to avoid repeated entities"
   ]
  },
  {
   "cell_type": "code",
   "execution_count": 4,
   "metadata": {},
   "outputs": [],
   "source": [
    "data.c = data.c.apply(str.lower)\n",
    "data.r = data.r.apply(str.lower)"
   ]
  },
  {
   "cell_type": "markdown",
   "metadata": {},
   "source": [
    "#### To reduce processing time, we will remove duplicate discussions, to consult our data."
   ]
  },
  {
   "cell_type": "code",
   "execution_count": 5,
   "metadata": {},
   "outputs": [],
   "source": [
    "Data = data[['Id','c']]"
   ]
  },
  {
   "cell_type": "code",
   "execution_count": 6,
   "metadata": {},
   "outputs": [],
   "source": [
    "Data.drop_duplicates(subset =\"c\", keep = 'first', inplace = True) "
   ]
  },
  {
   "cell_type": "code",
   "execution_count": 7,
   "metadata": {},
   "outputs": [
    {
     "data": {
      "text/html": [
       "<div>\n",
       "<style scoped>\n",
       "    .dataframe tbody tr th:only-of-type {\n",
       "        vertical-align: middle;\n",
       "    }\n",
       "\n",
       "    .dataframe tbody tr th {\n",
       "        vertical-align: top;\n",
       "    }\n",
       "\n",
       "    .dataframe thead th {\n",
       "        text-align: right;\n",
       "    }\n",
       "</style>\n",
       "<table border=\"1\" class=\"dataframe\">\n",
       "  <thead>\n",
       "    <tr style=\"text-align: right;\">\n",
       "      <th></th>\n",
       "      <th>Id</th>\n",
       "      <th>c</th>\n",
       "    </tr>\n",
       "  </thead>\n",
       "  <tbody>\n",
       "    <tr>\n",
       "      <th>0</th>\n",
       "      <td>0</td>\n",
       "      <td>_t_ comment faire pour choisir bonne musique ...</td>\n",
       "    </tr>\n",
       "    <tr>\n",
       "      <th>10</th>\n",
       "      <td>10</td>\n",
       "      <td>_t_ الانترنات غرامك عليك بالـ forfait flexi ت...</td>\n",
       "    </tr>\n",
       "    <tr>\n",
       "      <th>20</th>\n",
       "      <td>20</td>\n",
       "      <td>_t_ عندي سؤال: وقتلي شريت اوريدو صححة يتجدد ت...</td>\n",
       "    </tr>\n",
       "    <tr>\n",
       "      <th>30</th>\n",
       "      <td>30</td>\n",
       "      <td>_t_ yezi te5ssro barcha wzid esr9o mnha _t_ b...</td>\n",
       "    </tr>\n",
       "    <tr>\n",
       "      <th>40</th>\n",
       "      <td>40</td>\n",
       "      <td>_t_ شبيه ريزو الانترنيت ضعيف وزيد الفورفي تتكل</td>\n",
       "    </tr>\n",
       "  </tbody>\n",
       "</table>\n",
       "</div>"
      ],
      "text/plain": [
       "    Id                                                  c\n",
       "0    0   _t_ comment faire pour choisir bonne musique ...\n",
       "10  10   _t_ الانترنات غرامك عليك بالـ forfait flexi ت...\n",
       "20  20   _t_ عندي سؤال: وقتلي شريت اوريدو صححة يتجدد ت...\n",
       "30  30   _t_ yezi te5ssro barcha wzid esr9o mnha _t_ b...\n",
       "40  40     _t_ شبيه ريزو الانترنيت ضعيف وزيد الفورفي تتكل"
      ]
     },
     "execution_count": 7,
     "metadata": {},
     "output_type": "execute_result"
    }
   ],
   "source": [
    "Data.head()"
   ]
  },
  {
   "cell_type": "markdown",
   "metadata": {},
   "source": [
    "#### Every cell contains a conversation. Comments are seperated using '_t_'. Now we will seperate comments"
   ]
  },
  {
   "cell_type": "code",
   "execution_count": 8,
   "metadata": {},
   "outputs": [],
   "source": [
    "Comments = pd.DataFrame()"
   ]
  },
  {
   "cell_type": "code",
   "execution_count": 9,
   "metadata": {},
   "outputs": [],
   "source": [
    "ind = 0\n",
    "for index,row in Data.iterrows():  \n",
    "    text = str(row['c'])\n",
    "    Discussion = text.split(' _t_ ')\n",
    "    for Text in Discussion :\n",
    "        if Text != '':\n",
    "            Comments.at[ind,'Id']=row['Id']\n",
    "            Comments.at[ind,'Text']=Text\n",
    "            ind+=1"
   ]
  },
  {
   "cell_type": "code",
   "execution_count": 10,
   "metadata": {},
   "outputs": [
    {
     "data": {
      "text/html": [
       "<div>\n",
       "<style scoped>\n",
       "    .dataframe tbody tr th:only-of-type {\n",
       "        vertical-align: middle;\n",
       "    }\n",
       "\n",
       "    .dataframe tbody tr th {\n",
       "        vertical-align: top;\n",
       "    }\n",
       "\n",
       "    .dataframe thead th {\n",
       "        text-align: right;\n",
       "    }\n",
       "</style>\n",
       "<table border=\"1\" class=\"dataframe\">\n",
       "  <thead>\n",
       "    <tr style=\"text-align: right;\">\n",
       "      <th></th>\n",
       "      <th>Id</th>\n",
       "      <th>Text</th>\n",
       "    </tr>\n",
       "  </thead>\n",
       "  <tbody>\n",
       "    <tr>\n",
       "      <th>0</th>\n",
       "      <td>0.0</td>\n",
       "      <td>comment faire pour choisir bonne musique pour ...</td>\n",
       "    </tr>\n",
       "    <tr>\n",
       "      <th>1</th>\n",
       "      <td>0.0</td>\n",
       "      <td>bonsoir rimo simple consultez catalogue toutes...</td>\n",
       "    </tr>\n",
       "    <tr>\n",
       "      <th>2</th>\n",
       "      <td>0.0</td>\n",
       "      <td>merci peux donner musique numero</td>\n",
       "    </tr>\n",
       "    <tr>\n",
       "      <th>3</th>\n",
       "      <td>0.0</td>\n",
       "      <td>vous cherchez titre bien déterminé lotfi commu...</td>\n",
       "    </tr>\n",
       "    <tr>\n",
       "      <th>4</th>\n",
       "      <td>0.0</td>\n",
       "      <td>connais jara</td>\n",
       "    </tr>\n",
       "  </tbody>\n",
       "</table>\n",
       "</div>"
      ],
      "text/plain": [
       "    Id                                               Text\n",
       "0  0.0  comment faire pour choisir bonne musique pour ...\n",
       "1  0.0  bonsoir rimo simple consultez catalogue toutes...\n",
       "2  0.0                   merci peux donner musique numero\n",
       "3  0.0  vous cherchez titre bien déterminé lotfi commu...\n",
       "4  0.0                                       connais jara"
      ]
     },
     "execution_count": 10,
     "metadata": {},
     "output_type": "execute_result"
    }
   ],
   "source": [
    "Comments.head()"
   ]
  },
  {
   "cell_type": "markdown",
   "metadata": {},
   "source": [
    "#### Now we will use 'Wordcloud to have a quick look at the most used terms"
   ]
  },
  {
   "cell_type": "code",
   "execution_count": 11,
   "metadata": {},
   "outputs": [],
   "source": [
    "Words = ''\n",
    "for index,row in Comments.iterrows():\n",
    "    Words=Words+\" \"+row[\"Text\"]"
   ]
  },
  {
   "cell_type": "code",
   "execution_count": 12,
   "metadata": {},
   "outputs": [],
   "source": [
    "#Settings\n",
    "wordcloud_pos=WordCloud(max_font_size=100, max_words=150, background_color=\"white\").generate(Words)"
   ]
  },
  {
   "cell_type": "code",
   "execution_count": 13,
   "metadata": {},
   "outputs": [
    {
     "data": {
      "image/png": "[encoded data removed]",
      "text/plain": [
       "<Figure size 1080x1080 with 1 Axes>"
      ]
     },
     "metadata": {
      "needs_background": "light"
     },
     "output_type": "display_data"
    }
   ],
   "source": [
    "#Plotting the words\n",
    "plt.figure(figsize=(15,15))\n",
    "plt.imshow(wordcloud_pos, interpolation=\"bilinear\")\n",
    "plt.axis(\"off\")\n",
    "plt.title(\"Wordcloud\")\n",
    "plt.show()"
   ]
  },
  {
   "cell_type": "markdown",
   "metadata": {},
   "source": [
    "#### We can see that some words are meaningless or have a special context, we will be using them later\n",
    "#### You can also see that arabic words are being displayed with squares"
   ]
  },
  {
   "cell_type": "markdown",
   "metadata": {},
   "source": [
    "#### Another way to see the most used words, is using Word counter."
   ]
  },
  {
   "cell_type": "code",
   "execution_count": 14,
   "metadata": {},
   "outputs": [
    {
     "name": "stdout",
     "output_type": "stream",
     "text": [
      "[('ooredoo', 1935), ('community', 1170), ('manager', 1162), ('vous', 1063), ('votre', 880), ('tunisie', 753), ('pour', 585), ('merci', 564), ('team', 531), ('assistance', 531), ('lotfi', 385), ('raouf', 377), ('service', 368), ('مرحبا', 332), ('bonsoir', 317), ('forfait', 286), ('plus', 284), ('bonjour', 281), ('mohamed', 264), ('points', 252)]\n"
     ]
    }
   ],
   "source": [
    "Splt = Words.split(' ')\n",
    "Counter = Counter(Splt)\n",
    "most_occur = Counter.most_common(20)  \n",
    "print(most_occur)"
   ]
  },
  {
   "cell_type": "markdown",
   "metadata": {},
   "source": [
    "#### We will store the 20 most used terms so we can use them later in the cleaning"
   ]
  },
  {
   "cell_type": "code",
   "execution_count": 15,
   "metadata": {},
   "outputs": [],
   "source": [
    "MstUsed = ['_t_']\n",
    "for tup in most_occur:\n",
    "    MstUsed.append(tup[0])"
   ]
  },
  {
   "cell_type": "markdown",
   "metadata": {},
   "source": [
    "#### Since our data is written in French, Tunisian is using Latin characters, and Tunisian is using Arabic characters. We will use a module called 'langdetect' to seperate the data with the comment language. It is not so accurate but it will help us acheive good results"
   ]
  },
  {
   "cell_type": "code",
   "execution_count": 16,
   "metadata": {},
   "outputs": [],
   "source": [
    "for index,row in Comments.iterrows():\n",
    "    try:\n",
    "        Lang = detect(row['Text'])\n",
    "    except:\n",
    "        Lang = 'NN'\n",
    "    Comments.at[index,'Lang'] = Lang"
   ]
  },
  {
   "cell_type": "code",
   "execution_count": 17,
   "metadata": {},
   "outputs": [
    {
     "data": {
      "text/plain": [
       "array(['fr', 'ar', 'en', 'so', 'ro', 'af', 'pt', 'fa', 'pl', 'da', 'sv',\n",
       "       'tr', 'fi', 'id', 'nl', 'sw', 'et', 'cs', 'vi', 'tl', 'cy', 'hr',\n",
       "       'no', 'hu', 'de', 'sq', 'sk', 'lv', 'es', 'it', 'ca', 'NN', 'sl',\n",
       "       'ur', 'lt'], dtype=object)"
      ]
     },
     "execution_count": 17,
     "metadata": {},
     "output_type": "execute_result"
    }
   ],
   "source": [
    "Comments.Lang.unique()"
   ]
  },
  {
   "cell_type": "markdown",
   "metadata": {},
   "source": [
    "#### As you can see, more than 30 language are detected, but the Tunisian dialect is the one causing confusion to the detector. After investigating, we can sort the comments like this : \n",
    "1. 'fr' and 'en' for French and English\n",
    "2. 'ar' and 'fa' for Comments written with Arabic characters\n",
    "3. The rest for the Tunisian written with latin words"
   ]
  },
  {
   "cell_type": "code",
   "execution_count": 18,
   "metadata": {},
   "outputs": [],
   "source": [
    "French = Comments[np.logical_or(Comments.Lang=='fr' , Comments.Lang=='en')]\n",
    "Arabic = Comments[np.logical_or( Comments.Lang=='ar' , Comments.Lang=='fa' )]\n",
    "Tunisian = Comments[np.logical_not(np.logical_or(np.logical_or(Comments.Lang=='fr' , Comments.Lang=='en'),np.logical_or( Comments.Lang=='ar' , Comments.Lang=='fa' )))]"
   ]
  },
  {
   "cell_type": "code",
   "execution_count": 19,
   "metadata": {},
   "outputs": [
    {
     "data": {
      "text/html": [
       "<div>\n",
       "<style scoped>\n",
       "    .dataframe tbody tr th:only-of-type {\n",
       "        vertical-align: middle;\n",
       "    }\n",
       "\n",
       "    .dataframe tbody tr th {\n",
       "        vertical-align: top;\n",
       "    }\n",
       "\n",
       "    .dataframe thead th {\n",
       "        text-align: right;\n",
       "    }\n",
       "</style>\n",
       "<table border=\"1\" class=\"dataframe\">\n",
       "  <thead>\n",
       "    <tr style=\"text-align: right;\">\n",
       "      <th></th>\n",
       "      <th>Id</th>\n",
       "      <th>Text</th>\n",
       "      <th>Lang</th>\n",
       "    </tr>\n",
       "  </thead>\n",
       "  <tbody>\n",
       "    <tr>\n",
       "      <th>0</th>\n",
       "      <td>0.0</td>\n",
       "      <td>comment faire pour choisir bonne musique pour ...</td>\n",
       "      <td>fr</td>\n",
       "    </tr>\n",
       "    <tr>\n",
       "      <th>1</th>\n",
       "      <td>0.0</td>\n",
       "      <td>bonsoir rimo simple consultez catalogue toutes...</td>\n",
       "      <td>fr</td>\n",
       "    </tr>\n",
       "    <tr>\n",
       "      <th>2</th>\n",
       "      <td>0.0</td>\n",
       "      <td>merci peux donner musique numero</td>\n",
       "      <td>fr</td>\n",
       "    </tr>\n",
       "    <tr>\n",
       "      <th>3</th>\n",
       "      <td>0.0</td>\n",
       "      <td>vous cherchez titre bien déterminé lotfi commu...</td>\n",
       "      <td>fr</td>\n",
       "    </tr>\n",
       "    <tr>\n",
       "      <th>4</th>\n",
       "      <td>0.0</td>\n",
       "      <td>connais jara</td>\n",
       "      <td>fr</td>\n",
       "    </tr>\n",
       "  </tbody>\n",
       "</table>\n",
       "</div>"
      ],
      "text/plain": [
       "    Id                                               Text Lang\n",
       "0  0.0  comment faire pour choisir bonne musique pour ...   fr\n",
       "1  0.0  bonsoir rimo simple consultez catalogue toutes...   fr\n",
       "2  0.0                   merci peux donner musique numero   fr\n",
       "3  0.0  vous cherchez titre bien déterminé lotfi commu...   fr\n",
       "4  0.0                                       connais jara   fr"
      ]
     },
     "execution_count": 19,
     "metadata": {},
     "output_type": "execute_result"
    }
   ],
   "source": [
    "French.head()"
   ]
  },
  {
   "cell_type": "code",
   "execution_count": 20,
   "metadata": {},
   "outputs": [
    {
     "data": {
      "text/html": [
       "<div>\n",
       "<style scoped>\n",
       "    .dataframe tbody tr th:only-of-type {\n",
       "        vertical-align: middle;\n",
       "    }\n",
       "\n",
       "    .dataframe tbody tr th {\n",
       "        vertical-align: top;\n",
       "    }\n",
       "\n",
       "    .dataframe thead th {\n",
       "        text-align: right;\n",
       "    }\n",
       "</style>\n",
       "<table border=\"1\" class=\"dataframe\">\n",
       "  <thead>\n",
       "    <tr style=\"text-align: right;\">\n",
       "      <th></th>\n",
       "      <th>Id</th>\n",
       "      <th>Text</th>\n",
       "      <th>Lang</th>\n",
       "    </tr>\n",
       "  </thead>\n",
       "  <tbody>\n",
       "    <tr>\n",
       "      <th>8</th>\n",
       "      <td>10.0</td>\n",
       "      <td>الانترنات غرامك عليك بالـ forfait flexi تمتع ا...</td>\n",
       "      <td>ar</td>\n",
       "    </tr>\n",
       "    <tr>\n",
       "      <th>10</th>\n",
       "      <td>10.0</td>\n",
       "      <td>تنجم تستعملها تيوب</td>\n",
       "      <td>ar</td>\n",
       "    </tr>\n",
       "    <tr>\n",
       "      <th>16</th>\n",
       "      <td>20.0</td>\n",
       "      <td>عندي سؤال: وقتلي شريت اوريدو صححة يتجدد تلقائي...</td>\n",
       "      <td>ar</td>\n",
       "    </tr>\n",
       "    <tr>\n",
       "      <th>19</th>\n",
       "      <td>40.0</td>\n",
       "      <td>شبيه ريزو الانترنيت ضعيف وزيد الفورفي تتكل</td>\n",
       "      <td>ar</td>\n",
       "    </tr>\n",
       "    <tr>\n",
       "      <th>21</th>\n",
       "      <td>50.0</td>\n",
       "      <td>عسلامة يمكنك إستعمال خدمة ta7wil للتحويل رصيد ...</td>\n",
       "      <td>ar</td>\n",
       "    </tr>\n",
       "  </tbody>\n",
       "</table>\n",
       "</div>"
      ],
      "text/plain": [
       "      Id                                               Text Lang\n",
       "8   10.0  الانترنات غرامك عليك بالـ forfait flexi تمتع ا...   ar\n",
       "10  10.0                                 تنجم تستعملها تيوب   ar\n",
       "16  20.0  عندي سؤال: وقتلي شريت اوريدو صححة يتجدد تلقائي...   ar\n",
       "19  40.0         شبيه ريزو الانترنيت ضعيف وزيد الفورفي تتكل   ar\n",
       "21  50.0  عسلامة يمكنك إستعمال خدمة ta7wil للتحويل رصيد ...   ar"
      ]
     },
     "execution_count": 20,
     "metadata": {},
     "output_type": "execute_result"
    }
   ],
   "source": [
    "Arabic.head()"
   ]
  },
  {
   "cell_type": "code",
   "execution_count": 21,
   "metadata": {},
   "outputs": [
    {
     "data": {
      "text/html": [
       "<div>\n",
       "<style scoped>\n",
       "    .dataframe tbody tr th:only-of-type {\n",
       "        vertical-align: middle;\n",
       "    }\n",
       "\n",
       "    .dataframe tbody tr th {\n",
       "        vertical-align: top;\n",
       "    }\n",
       "\n",
       "    .dataframe thead th {\n",
       "        text-align: right;\n",
       "    }\n",
       "</style>\n",
       "<table border=\"1\" class=\"dataframe\">\n",
       "  <thead>\n",
       "    <tr style=\"text-align: right;\">\n",
       "      <th></th>\n",
       "      <th>Id</th>\n",
       "      <th>Text</th>\n",
       "      <th>Lang</th>\n",
       "    </tr>\n",
       "  </thead>\n",
       "  <tbody>\n",
       "    <tr>\n",
       "      <th>11</th>\n",
       "      <td>10.0</td>\n",
       "      <td>مرحبا توضحلي أكثر الطلب متاعك faten team oored...</td>\n",
       "      <td>so</td>\n",
       "    </tr>\n",
       "    <tr>\n",
       "      <th>12</th>\n",
       "      <td>10.0</td>\n",
       "      <td>tidjeni rachid ouii testa3melha chayy</td>\n",
       "      <td>ro</td>\n",
       "    </tr>\n",
       "    <tr>\n",
       "      <th>13</th>\n",
       "      <td>10.0</td>\n",
       "      <td>ooredoo tunisie na7ki forfait hadha mta3</td>\n",
       "      <td>af</td>\n",
       "    </tr>\n",
       "    <tr>\n",
       "      <th>15</th>\n",
       "      <td>10.0</td>\n",
       "      <td>ooredoo tunisie ligne business</td>\n",
       "      <td>af</td>\n",
       "    </tr>\n",
       "    <tr>\n",
       "      <th>17</th>\n",
       "      <td>30.0</td>\n",
       "      <td>yezi te5ssro barcha wzid esr9o mnha</td>\n",
       "      <td>pt</td>\n",
       "    </tr>\n",
       "  </tbody>\n",
       "</table>\n",
       "</div>"
      ],
      "text/plain": [
       "      Id                                               Text Lang\n",
       "11  10.0  مرحبا توضحلي أكثر الطلب متاعك faten team oored...   so\n",
       "12  10.0              tidjeni rachid ouii testa3melha chayy   ro\n",
       "13  10.0           ooredoo tunisie na7ki forfait hadha mta3   af\n",
       "15  10.0                     ooredoo tunisie ligne business   af\n",
       "17  30.0                yezi te5ssro barcha wzid esr9o mnha   pt"
      ]
     },
     "execution_count": 21,
     "metadata": {},
     "output_type": "execute_result"
    }
   ],
   "source": [
    "Tunisian.head()"
   ]
  },
  {
   "cell_type": "markdown",
   "metadata": {},
   "source": [
    "#### So far so good. Now, we will see most used words in each dataset"
   ]
  },
  {
   "cell_type": "code",
   "execution_count": 22,
   "metadata": {},
   "outputs": [],
   "source": [
    "#French\n",
    "WordsFr = ''\n",
    "for index,row in French.iterrows():\n",
    "    WordsFr=WordsFr+\" \"+row[\"Text\"]"
   ]
  },
  {
   "cell_type": "code",
   "execution_count": 23,
   "metadata": {},
   "outputs": [
    {
     "name": "stdout",
     "output_type": "stream",
     "text": [
      "[('vous', 1051), ('community', 897), ('manager', 887), ('votre', 868), ('ooredoo', 666), ('pour', 580), ('service', 334), ('bonsoir', 311), ('merci', 308), ('raouf', 298), ('lotfi', 297), ('plus', 276), ('assistance', 276), ('team', 274), ('bonjour', 271), ('numéro', 220), ('avec', 204), ('points', 192), ('wajih', 192), ('forfait', 183), ('offre', 182), ('nous', 157), ('mois', 156), ('tunisie', 148), ('privé', 148), ('internet', 128), ('fixe', 122), ('détails', 118), ('pouvez', 117), ('salut', 117), ('mohamed', 117), ('boutique', 116), ('vérifier', 115), ('dans', 110), ('facture', 110), ('afin', 106), ('ligne', 106), ('jdid', 103), ('application', 98), ('veuillez', 93), ('connexion', 88), ('faire', 85), ('lien', 84), ('bien', 83), ('pack', 80), ('mobile', 78), ('avoir', 78), ('aymen', 77), ('ahmed', 75), ('communiquer', 75)]\n"
     ]
    }
   ],
   "source": [
    "from collections import Counter \n",
    "SpltFr = WordsFr.split(' ')\n",
    "CounterFr = Counter(SpltFr)\n",
    "most_occur = CounterFr.most_common(50)  \n",
    "print(most_occur)"
   ]
  },
  {
   "cell_type": "code",
   "execution_count": 24,
   "metadata": {},
   "outputs": [],
   "source": [
    "#Arabic\n",
    "WordsAr = ''\n",
    "for index,row in Arabic.iterrows():\n",
    "    WordsAr=WordsAr+\" \"+row[\"Text\"]"
   ]
  },
  {
   "cell_type": "code",
   "execution_count": 25,
   "metadata": {},
   "outputs": [
    {
     "name": "stdout",
     "output_type": "stream",
     "text": [
      "[('ooredoo', 489), ('مرحبا', 255), ('community', 229), ('manager', 229), ('team', 210), ('assistance', 210), ('كيفاش', 202), ('دينار', 184), ('بربي', 171), ('تنجم', 165), ('عندي', 151), ('اوريدو', 128), ('أكثر', 120), ('أدخل', 120), ('متاع', 114), ('رقمك', 111), ('شكرا', 106), ('tunisie', 106), ('ذمتك', 104), ('نعمل', 101), ('متاعك', 100), ('الله', 95), ('السلام', 94), ('mohamed', 91), ('علاش', 90), ('http://ore.do/myooredoo', 86), ('رسالة', 82), ('لمدة', 81), ('android', 78), ('خاصة', 77), ('احنا', 76), ('تاليفونك', 76), ('نشري', 76), ('aymen', 72), ('ديما', 71), ('بالله', 71), ('العرض', 71), ('الرابط', 70), ('عليك', 68), ('قداش', 68), ('lotfi', 67), ('مرسي', 66), ('تعطينا', 66), ('عندك', 62), ('raouf', 62), ('الخير', 60), ('تونس', 60), ('نقاط', 60), ('نقطة', 60), ('نعرف', 59)]\n"
     ]
    }
   ],
   "source": [
    "from collections import Counter \n",
    "SpltAr = WordsAr.split(' ')\n",
    "CounterAr = Counter(SpltAr)\n",
    "most_occur = CounterAr.most_common(50)  \n",
    "print(most_occur)"
   ]
  },
  {
   "cell_type": "code",
   "execution_count": 26,
   "metadata": {},
   "outputs": [],
   "source": [
    "#Tunisian\n",
    "WordsTn = ''\n",
    "for index,row in Tunisian.iterrows():\n",
    "    WordsTn=WordsTn+\" \"+row[\"Text\"]"
   ]
  },
  {
   "cell_type": "code",
   "execution_count": 27,
   "metadata": {},
   "outputs": [
    {
     "name": "stdout",
     "output_type": "stream",
     "text": [
      "[('ooredoo', 780), ('tunisie', 499), ('merci', 197), ('kifech', 125), ('brabi', 111), ('bech', 67), ('n7eb', 65), ('point', 57), ('3andi', 57), ('mohamed', 56), ('na3mel', 56), ('kifeh', 55), ('forfait', 48), ('team', 47), ('dima', 46), ('manager', 46), ('najem', 46), ('assistance', 45), ('mta3', 44), ('community', 44), ('nsob', 44), ('3938', 43), ('مرحبا', 42), ('wifi', 42), ('jdid', 40), ('prix', 39), ('points', 38), ('wala', 36), ('kifch', 36), ('fixe', 33), ('internet', 32), ('huawei', 31), ('fama', 31), ('kifach', 30), ('bonus', 29), ('nheb', 29), ('chhar', 29), ('kifh', 28), ('ahmed', 28), ('hamza', 28), ('haka', 28), ('code', 28), ('barcha', 27), ('chkoun', 27), ('offre', 27), ('9adech', 27), ('puce', 26), ('mobile', 25), ('dinar', 25), ('nova', 25)]\n"
     ]
    }
   ],
   "source": [
    "from collections import Counter \n",
    "SpltTn = WordsTn.split(' ')\n",
    "CounterTn = Counter(SpltTn)\n",
    "most_occur = CounterTn.most_common(50)  \n",
    "print(most_occur)"
   ]
  },
  {
   "cell_type": "markdown",
   "metadata": {},
   "source": [
    "#### By using some of these words, we will be building our dictionairies"
   ]
  },
  {
   "cell_type": "markdown",
   "metadata": {},
   "source": [
    "#### Now, we create a list of tunisian names that we will use for cleaning, you can find the list in this link :[Top 100 Prénoms Tunisiens](http://www.studentsoftheworld.info/penpals/stats_fr.php3?Pays=TUN)"
   ]
  },
  {
   "cell_type": "code",
   "execution_count": 28,
   "metadata": {},
   "outputs": [
    {
     "data": {
      "text/html": [
       "<div>\n",
       "<style scoped>\n",
       "    .dataframe tbody tr th:only-of-type {\n",
       "        vertical-align: middle;\n",
       "    }\n",
       "\n",
       "    .dataframe tbody tr th {\n",
       "        vertical-align: top;\n",
       "    }\n",
       "\n",
       "    .dataframe thead th {\n",
       "        text-align: right;\n",
       "    }\n",
       "</style>\n",
       "<table border=\"1\" class=\"dataframe\">\n",
       "  <thead>\n",
       "    <tr style=\"text-align: right;\">\n",
       "      <th></th>\n",
       "      <th>Name</th>\n",
       "    </tr>\n",
       "  </thead>\n",
       "  <tbody>\n",
       "    <tr>\n",
       "      <th>0</th>\n",
       "      <td>mohamed</td>\n",
       "    </tr>\n",
       "    <tr>\n",
       "      <th>1</th>\n",
       "      <td>aymen</td>\n",
       "    </tr>\n",
       "    <tr>\n",
       "      <th>2</th>\n",
       "      <td>skander</td>\n",
       "    </tr>\n",
       "    <tr>\n",
       "      <th>3</th>\n",
       "      <td>kais</td>\n",
       "    </tr>\n",
       "    <tr>\n",
       "      <th>4</th>\n",
       "      <td>amine</td>\n",
       "    </tr>\n",
       "  </tbody>\n",
       "</table>\n",
       "</div>"
      ],
      "text/plain": [
       "      Name\n",
       "0  mohamed\n",
       "1    aymen\n",
       "2  skander\n",
       "3     kais\n",
       "4    amine"
      ]
     },
     "execution_count": 28,
     "metadata": {},
     "output_type": "execute_result"
    }
   ],
   "source": [
    "names=pd.read_csv('Names.csv')\n",
    "names.Name= names.Name.apply(str.lower)\n",
    "names.head()"
   ]
  },
  {
   "cell_type": "markdown",
   "metadata": {},
   "source": [
    "#### In the next step, we will be building our dictionairies, we will create on for each of the following categories : Question, Expert, and some buissness related words"
   ]
  },
  {
   "cell_type": "code",
   "execution_count": 29,
   "metadata": {},
   "outputs": [],
   "source": [
    "Question = ['كيفاش','تنجم','بربي','علاش','نعرف','شكون','ياخي','kifech','brabi','3andi',\n",
    "            'kifeh','najem','kifch','nheb','kifach','kifh','3leh','9adeh','blhi',\n",
    "            'kifah','chnouwa','ya5i','pouvez','n7eb','بالله','?','؟']"
   ]
  },
  {
   "cell_type": "code",
   "execution_count": 30,
   "metadata": {},
   "outputs": [],
   "source": [
    "Expert = ['http://,','community','manager','#1','composez','تفاصيل','رقمك','team','assistance']"
   ]
  },
  {
   "cell_type": "code",
   "execution_count": 31,
   "metadata": {},
   "outputs": [],
   "source": [
    "BuissnessRelated=['ooredoo','tunisie','community','manager','team','assistance','http://ore.do/myooredoo']"
   ]
  },
  {
   "cell_type": "markdown",
   "metadata": {},
   "source": [
    "#### We will also use nltk , to import provided stopwords to be used later"
   ]
  },
  {
   "cell_type": "code",
   "execution_count": 32,
   "metadata": {},
   "outputs": [],
   "source": [
    "EN = get_stop_words('english')\n",
    "AR = get_stop_words('arabic')\n",
    "FR = get_stop_words('french')"
   ]
  },
  {
   "cell_type": "markdown",
   "metadata": {},
   "source": [
    "#### Before proceeding to the 'cleaning step', we will create 4 additional columns for the dataset, using dictionairies that we defined earlier. All of them are a boolean type. These columns are :\n",
    "1. __Expert:__ is it an answer of an expert ?\n",
    "2. __Last:__ was the last comment of the conversation made by an expert ?\n",
    "3. __ExpInv:__ was an expert involved in the discussion ?\n",
    "4. __Qlast:__ is the last comment of the conversation a question ?"
   ]
  },
  {
   "cell_type": "code",
   "execution_count": 33,
   "metadata": {},
   "outputs": [],
   "source": [
    "def IsExpert(text):\n",
    "    for E in Expert:\n",
    "        if E in text:\n",
    "            return True\n",
    "    return False"
   ]
  },
  {
   "cell_type": "code",
   "execution_count": 34,
   "metadata": {},
   "outputs": [],
   "source": [
    "def IsQuestion(text):\n",
    "    for E in Question:\n",
    "        if E in text:\n",
    "            return True\n",
    "    return False"
   ]
  },
  {
   "cell_type": "code",
   "execution_count": 35,
   "metadata": {},
   "outputs": [],
   "source": [
    "for index,row in data.iterrows():\n",
    "    # is it an answer of an expert ?\n",
    "    data.at[index,'Expert']=IsExpert(row['r'])\n",
    "    #seperate comments\n",
    "    text = row['c'].split('_t_')\n",
    "    #was the last comment of the conversation made by an expert ?\n",
    "    data.at[index,'Last']=IsExpert(text[-1])\n",
    "    #was an expert involved in the discussion ?\n",
    "    data.at[index,'ExpInv']=IsExpert(row['c'])\n",
    "    #is the last comment of the conversation a question ?\n",
    "    data.at[index,'Qlast']=IsQuestion(text[-1])\n",
    "    "
   ]
  },
  {
   "cell_type": "code",
   "execution_count": 36,
   "metadata": {},
   "outputs": [
    {
     "data": {
      "text/html": [
       "<div>\n",
       "<style scoped>\n",
       "    .dataframe tbody tr th:only-of-type {\n",
       "        vertical-align: middle;\n",
       "    }\n",
       "\n",
       "    .dataframe tbody tr th {\n",
       "        vertical-align: top;\n",
       "    }\n",
       "\n",
       "    .dataframe thead th {\n",
       "        text-align: right;\n",
       "    }\n",
       "</style>\n",
       "<table border=\"1\" class=\"dataframe\">\n",
       "  <thead>\n",
       "    <tr style=\"text-align: right;\">\n",
       "      <th></th>\n",
       "      <th>Id</th>\n",
       "      <th>c</th>\n",
       "      <th>r</th>\n",
       "      <th>y</th>\n",
       "      <th>Expert</th>\n",
       "      <th>Last</th>\n",
       "      <th>ExpInv</th>\n",
       "      <th>Qlast</th>\n",
       "    </tr>\n",
       "  </thead>\n",
       "  <tbody>\n",
       "    <tr>\n",
       "      <th>84995</th>\n",
       "      <td>84995</td>\n",
       "      <td>_t_ نسالكم بيني الفلوس تاخذوهم _t_ مرحبا وجدا...</td>\n",
       "      <td>دينار</td>\n",
       "      <td>0</td>\n",
       "      <td>False</td>\n",
       "      <td>False</td>\n",
       "      <td>True</td>\n",
       "      <td>True</td>\n",
       "    </tr>\n",
       "    <tr>\n",
       "      <th>84996</th>\n",
       "      <td>84996</td>\n",
       "      <td>_t_ نسالكم بيني الفلوس تاخذوهم _t_ مرحبا وجدا...</td>\n",
       "      <td>bonjour famechi facilité</td>\n",
       "      <td>0</td>\n",
       "      <td>False</td>\n",
       "      <td>False</td>\n",
       "      <td>True</td>\n",
       "      <td>True</td>\n",
       "    </tr>\n",
       "    <tr>\n",
       "      <th>84997</th>\n",
       "      <td>84997</td>\n",
       "      <td>_t_ نسالكم بيني الفلوس تاخذوهم _t_ مرحبا وجدا...</td>\n",
       "      <td>الكنكسيون طايح جملا</td>\n",
       "      <td>0</td>\n",
       "      <td>False</td>\n",
       "      <td>False</td>\n",
       "      <td>True</td>\n",
       "      <td>True</td>\n",
       "    </tr>\n",
       "    <tr>\n",
       "      <th>84998</th>\n",
       "      <td>84998</td>\n",
       "      <td>_t_ نسالكم بيني الفلوس تاخذوهم _t_ مرحبا وجدا...</td>\n",
       "      <td>الوقتاش العرض باقي شكرا</td>\n",
       "      <td>0</td>\n",
       "      <td>False</td>\n",
       "      <td>False</td>\n",
       "      <td>True</td>\n",
       "      <td>True</td>\n",
       "    </tr>\n",
       "    <tr>\n",
       "      <th>84999</th>\n",
       "      <td>84999</td>\n",
       "      <td>_t_ نسالكم بيني الفلوس تاخذوهم _t_ مرحبا وجدا...</td>\n",
       "      <td>avec service tasshil vous pouvez acheter port...</td>\n",
       "      <td>0</td>\n",
       "      <td>True</td>\n",
       "      <td>False</td>\n",
       "      <td>True</td>\n",
       "      <td>True</td>\n",
       "    </tr>\n",
       "  </tbody>\n",
       "</table>\n",
       "</div>"
      ],
      "text/plain": [
       "          Id                                                  c  \\\n",
       "84995  84995   _t_ نسالكم بيني الفلوس تاخذوهم _t_ مرحبا وجدا...   \n",
       "84996  84996   _t_ نسالكم بيني الفلوس تاخذوهم _t_ مرحبا وجدا...   \n",
       "84997  84997   _t_ نسالكم بيني الفلوس تاخذوهم _t_ مرحبا وجدا...   \n",
       "84998  84998   _t_ نسالكم بيني الفلوس تاخذوهم _t_ مرحبا وجدا...   \n",
       "84999  84999   _t_ نسالكم بيني الفلوس تاخذوهم _t_ مرحبا وجدا...   \n",
       "\n",
       "                                                       r  y Expert   Last  \\\n",
       "84995                                              دينار  0  False  False   \n",
       "84996                           bonjour famechi facilité  0  False  False   \n",
       "84997                                الكنكسيون طايح جملا  0  False  False   \n",
       "84998                            الوقتاش العرض باقي شكرا  0  False  False   \n",
       "84999   avec service tasshil vous pouvez acheter port...  0   True  False   \n",
       "\n",
       "      ExpInv Qlast  \n",
       "84995   True  True  \n",
       "84996   True  True  \n",
       "84997   True  True  \n",
       "84998   True  True  \n",
       "84999   True  True  "
      ]
     },
     "execution_count": 36,
     "metadata": {},
     "output_type": "execute_result"
    }
   ],
   "source": [
    "data.tail()"
   ]
  },
  {
   "cell_type": "markdown",
   "metadata": {},
   "source": [
    "### Data Preparation"
   ]
  },
  {
   "cell_type": "markdown",
   "metadata": {},
   "source": [
    "#### We will start by importing the stop words for the French, English and Arabic , and then, we store all of them in addition to the list of most used words we defined earlier, in a single list"
   ]
  },
  {
   "cell_type": "code",
   "execution_count": 37,
   "metadata": {},
   "outputs": [],
   "source": [
    "EN = get_stop_words('english')\n",
    "AR = get_stop_words('arabic')\n",
    "FR = get_stop_words('french')"
   ]
  },
  {
   "cell_type": "code",
   "execution_count": 38,
   "metadata": {},
   "outputs": [],
   "source": [
    "Stop_words= EN + AR + FR + MstUsed"
   ]
  },
  {
   "cell_type": "markdown",
   "metadata": {},
   "source": [
    "#### The functions defined below will remove stop words and tokenize the result "
   ]
  },
  {
   "cell_type": "code",
   "execution_count": 39,
   "metadata": {},
   "outputs": [],
   "source": [
    "#Redefine Tokenizer\n",
    "toknizer = RegexpTokenizer(r'''\\w'|\\w+|[^\\w\\s]''')\n",
    "def Tokenisation(text):\n",
    "    tokenized_text=toknizer.tokenize(text)\n",
    "    return tokenized_text"
   ]
  },
  {
   "cell_type": "code",
   "execution_count": 40,
   "metadata": {},
   "outputs": [],
   "source": [
    "def StopWordsAlphaText(tokenized_text):\n",
    "    filtred_text=[]\n",
    "    for word in tokenized_text:\n",
    "        #strip punctuation\n",
    "        word = word.strip('\\'\"?,.,:,/,*,#')\n",
    "        #check if the word starts with an alphabet\n",
    "        val = re.search(r\"^[a-zA-Z][a-zA-Z0-9]*$\", word)\n",
    "        #ignore if it is a stop word or val is none\n",
    "        if(word not in Stop_words and val != None):\n",
    "            filtred_text.append(word)\n",
    "    return filtred_text"
   ]
  },
  {
   "cell_type": "markdown",
   "metadata": {},
   "source": [
    "#### We apply both our functions to the data"
   ]
  },
  {
   "cell_type": "code",
   "execution_count": 41,
   "metadata": {},
   "outputs": [],
   "source": [
    "data.c = data.c.apply(Tokenisation)\n",
    "data.r = data.r.apply(Tokenisation)\n",
    "data.c = data.c.apply(StopWordsAlphaText)\n",
    "data.r = data.r.apply(StopWordsAlphaText)"
   ]
  },
  {
   "cell_type": "code",
   "execution_count": 42,
   "metadata": {},
   "outputs": [
    {
     "data": {
      "text/html": [
       "<div>\n",
       "<style scoped>\n",
       "    .dataframe tbody tr th:only-of-type {\n",
       "        vertical-align: middle;\n",
       "    }\n",
       "\n",
       "    .dataframe tbody tr th {\n",
       "        vertical-align: top;\n",
       "    }\n",
       "\n",
       "    .dataframe thead th {\n",
       "        text-align: right;\n",
       "    }\n",
       "</style>\n",
       "<table border=\"1\" class=\"dataframe\">\n",
       "  <thead>\n",
       "    <tr style=\"text-align: right;\">\n",
       "      <th></th>\n",
       "      <th>Id</th>\n",
       "      <th>c</th>\n",
       "      <th>r</th>\n",
       "      <th>y</th>\n",
       "      <th>Expert</th>\n",
       "      <th>Last</th>\n",
       "      <th>ExpInv</th>\n",
       "      <th>Qlast</th>\n",
       "    </tr>\n",
       "  </thead>\n",
       "  <tbody>\n",
       "    <tr>\n",
       "      <th>84990</th>\n",
       "      <td>84990</td>\n",
       "      <td>[]</td>\n",
       "      <td>[composez, renouvellement, automatique]</td>\n",
       "      <td>1</td>\n",
       "      <td>True</td>\n",
       "      <td>False</td>\n",
       "      <td>True</td>\n",
       "      <td>True</td>\n",
       "    </tr>\n",
       "    <tr>\n",
       "      <th>84991</th>\n",
       "      <td>84991</td>\n",
       "      <td>[]</td>\n",
       "      <td>[mtei, noumrouya, mahbech, ibthli, coed, kouli...</td>\n",
       "      <td>0</td>\n",
       "      <td>False</td>\n",
       "      <td>False</td>\n",
       "      <td>True</td>\n",
       "      <td>True</td>\n",
       "    </tr>\n",
       "    <tr>\n",
       "      <th>84992</th>\n",
       "      <td>84992</td>\n",
       "      <td>[]</td>\n",
       "      <td>[mahlakoum]</td>\n",
       "      <td>0</td>\n",
       "      <td>False</td>\n",
       "      <td>False</td>\n",
       "      <td>True</td>\n",
       "      <td>True</td>\n",
       "    </tr>\n",
       "    <tr>\n",
       "      <th>84993</th>\n",
       "      <td>84993</td>\n",
       "      <td>[]</td>\n",
       "      <td>[bech, nbdel, puce, o5rra, yesser, mstouha, ra...</td>\n",
       "      <td>0</td>\n",
       "      <td>False</td>\n",
       "      <td>False</td>\n",
       "      <td>True</td>\n",
       "      <td>True</td>\n",
       "    </tr>\n",
       "    <tr>\n",
       "      <th>84994</th>\n",
       "      <td>84994</td>\n",
       "      <td>[]</td>\n",
       "      <td>[]</td>\n",
       "      <td>0</td>\n",
       "      <td>False</td>\n",
       "      <td>False</td>\n",
       "      <td>True</td>\n",
       "      <td>True</td>\n",
       "    </tr>\n",
       "    <tr>\n",
       "      <th>84995</th>\n",
       "      <td>84995</td>\n",
       "      <td>[]</td>\n",
       "      <td>[]</td>\n",
       "      <td>0</td>\n",
       "      <td>False</td>\n",
       "      <td>False</td>\n",
       "      <td>True</td>\n",
       "      <td>True</td>\n",
       "    </tr>\n",
       "    <tr>\n",
       "      <th>84996</th>\n",
       "      <td>84996</td>\n",
       "      <td>[]</td>\n",
       "      <td>[famechi]</td>\n",
       "      <td>0</td>\n",
       "      <td>False</td>\n",
       "      <td>False</td>\n",
       "      <td>True</td>\n",
       "      <td>True</td>\n",
       "    </tr>\n",
       "    <tr>\n",
       "      <th>84997</th>\n",
       "      <td>84997</td>\n",
       "      <td>[]</td>\n",
       "      <td>[]</td>\n",
       "      <td>0</td>\n",
       "      <td>False</td>\n",
       "      <td>False</td>\n",
       "      <td>True</td>\n",
       "      <td>True</td>\n",
       "    </tr>\n",
       "    <tr>\n",
       "      <th>84998</th>\n",
       "      <td>84998</td>\n",
       "      <td>[]</td>\n",
       "      <td>[]</td>\n",
       "      <td>0</td>\n",
       "      <td>False</td>\n",
       "      <td>False</td>\n",
       "      <td>True</td>\n",
       "      <td>True</td>\n",
       "    </tr>\n",
       "    <tr>\n",
       "      <th>84999</th>\n",
       "      <td>84999</td>\n",
       "      <td>[]</td>\n",
       "      <td>[tasshil, pouvez, acheter, portable, choix, pa...</td>\n",
       "      <td>0</td>\n",
       "      <td>True</td>\n",
       "      <td>False</td>\n",
       "      <td>True</td>\n",
       "      <td>True</td>\n",
       "    </tr>\n",
       "  </tbody>\n",
       "</table>\n",
       "</div>"
      ],
      "text/plain": [
       "          Id   c                                                  r  y Expert  \\\n",
       "84990  84990  []            [composez, renouvellement, automatique]  1   True   \n",
       "84991  84991  []  [mtei, noumrouya, mahbech, ibthli, coed, kouli...  0  False   \n",
       "84992  84992  []                                        [mahlakoum]  0  False   \n",
       "84993  84993  []  [bech, nbdel, puce, o5rra, yesser, mstouha, ra...  0  False   \n",
       "84994  84994  []                                                 []  0  False   \n",
       "84995  84995  []                                                 []  0  False   \n",
       "84996  84996  []                                          [famechi]  0  False   \n",
       "84997  84997  []                                                 []  0  False   \n",
       "84998  84998  []                                                 []  0  False   \n",
       "84999  84999  []  [tasshil, pouvez, acheter, portable, choix, pa...  0   True   \n",
       "\n",
       "        Last ExpInv Qlast  \n",
       "84990  False   True  True  \n",
       "84991  False   True  True  \n",
       "84992  False   True  True  \n",
       "84993  False   True  True  \n",
       "84994  False   True  True  \n",
       "84995  False   True  True  \n",
       "84996  False   True  True  \n",
       "84997  False   True  True  \n",
       "84998  False   True  True  \n",
       "84999  False   True  True  "
      ]
     },
     "execution_count": 42,
     "metadata": {},
     "output_type": "execute_result"
    }
   ],
   "source": [
    "data.tail(10)"
   ]
  },
  {
   "cell_type": "markdown",
   "metadata": {},
   "source": [
    "### Training a word2Vec model"
   ]
  },
  {
   "cell_type": "markdown",
   "metadata": {},
   "source": [
    "#### We will count the number of cores of our processor to be used in the model parameters"
   ]
  },
  {
   "cell_type": "code",
   "execution_count": 43,
   "metadata": {},
   "outputs": [
    {
     "name": "stdout",
     "output_type": "stream",
     "text": [
      "4\n"
     ]
    }
   ],
   "source": [
    "cores = multiprocessing.cpu_count() \n",
    "print(cores)"
   ]
  },
  {
   "cell_type": "code",
   "execution_count": 44,
   "metadata": {},
   "outputs": [],
   "source": [
    "model = Word2Vec(min_count=20,window=2,size=300,sample=6e-5, alpha=0.03, \n",
    "                     min_alpha=0.0007, negative=20,workers=cores-1)\n",
    "\n"
   ]
  },
  {
   "cell_type": "code",
   "execution_count": 45,
   "metadata": {},
   "outputs": [
    {
     "name": "stdout",
     "output_type": "stream",
     "text": [
      "Time to build vocab: 0.0 mins\n"
     ]
    }
   ],
   "source": [
    "#BUILD_VOCAB()\n",
    "t = time()\n",
    "model.build_vocab((data[data.y==1][\"c\"]+data[data.y==1][\"r\"]), progress_per=1000)\n",
    "print('Time to build vocab: {} mins'.format(round((time() - t) / 60, 2)))"
   ]
  },
  {
   "cell_type": "code",
   "execution_count": 46,
   "metadata": {},
   "outputs": [
    {
     "name": "stdout",
     "output_type": "stream",
     "text": [
      "Time to train the model: 5.33 mins\n"
     ]
    }
   ],
   "source": [
    "#TRAIN()\n",
    "model.train((data[data.y==1][\"c\"]+data[data.y==1][\"r\"]), total_examples=model.corpus_count, epochs=10000, report_delay=1)\n",
    "print('Time to train the model: {} mins'.format(round((time() - t) / 60, 2)))"
   ]
  },
  {
   "cell_type": "code",
   "execution_count": 52,
   "metadata": {},
   "outputs": [
    {
     "data": {
      "text/plain": [
       "[('nchri', 0.3062921464443207),\n",
       " ('brabi', 0.23610372841358185),\n",
       " ('kifeh', 0.22418197989463806),\n",
       " ('bech', 0.19726963341236115),\n",
       " ('jihed', 0.19628660380840302),\n",
       " ('muni', 0.1886330395936966),\n",
       " ('hata', 0.18324342370033264),\n",
       " ('tunisiana', 0.17826710641384125),\n",
       " ('feha', 0.1771552562713623),\n",
       " ('flous', 0.16433140635490417)]"
      ]
     },
     "execution_count": 52,
     "metadata": {},
     "output_type": "execute_result"
    }
   ],
   "source": [
    "model.most_similar(positive=[\"nheb\"])"
   ]
  },
  {
   "cell_type": "code",
   "execution_count": 49,
   "metadata": {},
   "outputs": [],
   "source": [
    "def Similar(text):\n",
    "    for word in text:\n",
    "        try:\n",
    "            model.most_similar(positive=[word])\n",
    "            return True\n",
    "        except:\n",
    "            continue;\n",
    "    return False"
   ]
  },
  {
   "cell_type": "code",
   "execution_count": 50,
   "metadata": {},
   "outputs": [],
   "source": [
    "for index,row in data.iterrows():\n",
    "    data.at[index,'Similar']=Similar(row['r'])"
   ]
  },
  {
   "cell_type": "code",
   "execution_count": 51,
   "metadata": {},
   "outputs": [
    {
     "data": {
      "text/html": [
       "<div>\n",
       "<style scoped>\n",
       "    .dataframe tbody tr th:only-of-type {\n",
       "        vertical-align: middle;\n",
       "    }\n",
       "\n",
       "    .dataframe tbody tr th {\n",
       "        vertical-align: top;\n",
       "    }\n",
       "\n",
       "    .dataframe thead th {\n",
       "        text-align: right;\n",
       "    }\n",
       "</style>\n",
       "<table border=\"1\" class=\"dataframe\">\n",
       "  <thead>\n",
       "    <tr style=\"text-align: right;\">\n",
       "      <th></th>\n",
       "      <th>Id</th>\n",
       "      <th>c</th>\n",
       "      <th>r</th>\n",
       "      <th>y</th>\n",
       "      <th>Expert</th>\n",
       "      <th>Last</th>\n",
       "      <th>ExpInv</th>\n",
       "      <th>Qlast</th>\n",
       "      <th>Similar</th>\n",
       "    </tr>\n",
       "  </thead>\n",
       "  <tbody>\n",
       "    <tr>\n",
       "      <th>84980</th>\n",
       "      <td>84980</td>\n",
       "      <td>[youssfi]</td>\n",
       "      <td>[aamaltlk]</td>\n",
       "      <td>1</td>\n",
       "      <td>False</td>\n",
       "      <td>False</td>\n",
       "      <td>False</td>\n",
       "      <td>False</td>\n",
       "      <td>False</td>\n",
       "    </tr>\n",
       "    <tr>\n",
       "      <th>84981</th>\n",
       "      <td>84981</td>\n",
       "      <td>[youssfi]</td>\n",
       "      <td>[yeb9a, ayem, bech, tarja3, oreedoo]</td>\n",
       "      <td>0</td>\n",
       "      <td>False</td>\n",
       "      <td>False</td>\n",
       "      <td>False</td>\n",
       "      <td>False</td>\n",
       "      <td>True</td>\n",
       "    </tr>\n",
       "    <tr>\n",
       "      <th>84982</th>\n",
       "      <td>84982</td>\n",
       "      <td>[youssfi]</td>\n",
       "      <td>[bellehi, n7eb, nefhem, wa7da, quelque, teleco...</td>\n",
       "      <td>0</td>\n",
       "      <td>False</td>\n",
       "      <td>False</td>\n",
       "      <td>False</td>\n",
       "      <td>False</td>\n",
       "      <td>True</td>\n",
       "    </tr>\n",
       "    <tr>\n",
       "      <th>84983</th>\n",
       "      <td>84983</td>\n",
       "      <td>[youssfi]</td>\n",
       "      <td>[]</td>\n",
       "      <td>0</td>\n",
       "      <td>False</td>\n",
       "      <td>False</td>\n",
       "      <td>False</td>\n",
       "      <td>False</td>\n",
       "      <td>False</td>\n",
       "    </tr>\n",
       "    <tr>\n",
       "      <th>84984</th>\n",
       "      <td>84984</td>\n",
       "      <td>[youssfi]</td>\n",
       "      <td>[youssfi]</td>\n",
       "      <td>0</td>\n",
       "      <td>False</td>\n",
       "      <td>False</td>\n",
       "      <td>False</td>\n",
       "      <td>False</td>\n",
       "      <td>False</td>\n",
       "    </tr>\n",
       "    <tr>\n",
       "      <th>84985</th>\n",
       "      <td>84985</td>\n",
       "      <td>[youssfi]</td>\n",
       "      <td>[application]</td>\n",
       "      <td>0</td>\n",
       "      <td>False</td>\n",
       "      <td>False</td>\n",
       "      <td>False</td>\n",
       "      <td>False</td>\n",
       "      <td>True</td>\n",
       "    </tr>\n",
       "    <tr>\n",
       "      <th>84986</th>\n",
       "      <td>84986</td>\n",
       "      <td>[youssfi]</td>\n",
       "      <td>[]</td>\n",
       "      <td>0</td>\n",
       "      <td>False</td>\n",
       "      <td>False</td>\n",
       "      <td>False</td>\n",
       "      <td>False</td>\n",
       "      <td>False</td>\n",
       "    </tr>\n",
       "    <tr>\n",
       "      <th>84987</th>\n",
       "      <td>84987</td>\n",
       "      <td>[youssfi]</td>\n",
       "      <td>[rihem, nouri]</td>\n",
       "      <td>0</td>\n",
       "      <td>False</td>\n",
       "      <td>False</td>\n",
       "      <td>False</td>\n",
       "      <td>False</td>\n",
       "      <td>False</td>\n",
       "    </tr>\n",
       "    <tr>\n",
       "      <th>84988</th>\n",
       "      <td>84988</td>\n",
       "      <td>[youssfi]</td>\n",
       "      <td>[atef]</td>\n",
       "      <td>0</td>\n",
       "      <td>True</td>\n",
       "      <td>False</td>\n",
       "      <td>False</td>\n",
       "      <td>False</td>\n",
       "      <td>True</td>\n",
       "    </tr>\n",
       "    <tr>\n",
       "      <th>84989</th>\n",
       "      <td>84989</td>\n",
       "      <td>[youssfi]</td>\n",
       "      <td>[]</td>\n",
       "      <td>0</td>\n",
       "      <td>False</td>\n",
       "      <td>False</td>\n",
       "      <td>False</td>\n",
       "      <td>False</td>\n",
       "      <td>False</td>\n",
       "    </tr>\n",
       "    <tr>\n",
       "      <th>84990</th>\n",
       "      <td>84990</td>\n",
       "      <td>[]</td>\n",
       "      <td>[composez, renouvellement, automatique]</td>\n",
       "      <td>1</td>\n",
       "      <td>True</td>\n",
       "      <td>False</td>\n",
       "      <td>True</td>\n",
       "      <td>True</td>\n",
       "      <td>True</td>\n",
       "    </tr>\n",
       "    <tr>\n",
       "      <th>84991</th>\n",
       "      <td>84991</td>\n",
       "      <td>[]</td>\n",
       "      <td>[mtei, noumrouya, mahbech, ibthli, coed, kouli...</td>\n",
       "      <td>0</td>\n",
       "      <td>False</td>\n",
       "      <td>False</td>\n",
       "      <td>True</td>\n",
       "      <td>True</td>\n",
       "      <td>True</td>\n",
       "    </tr>\n",
       "    <tr>\n",
       "      <th>84992</th>\n",
       "      <td>84992</td>\n",
       "      <td>[]</td>\n",
       "      <td>[mahlakoum]</td>\n",
       "      <td>0</td>\n",
       "      <td>False</td>\n",
       "      <td>False</td>\n",
       "      <td>True</td>\n",
       "      <td>True</td>\n",
       "      <td>False</td>\n",
       "    </tr>\n",
       "    <tr>\n",
       "      <th>84993</th>\n",
       "      <td>84993</td>\n",
       "      <td>[]</td>\n",
       "      <td>[bech, nbdel, puce, o5rra, yesser, mstouha, ra...</td>\n",
       "      <td>0</td>\n",
       "      <td>False</td>\n",
       "      <td>False</td>\n",
       "      <td>True</td>\n",
       "      <td>True</td>\n",
       "      <td>True</td>\n",
       "    </tr>\n",
       "    <tr>\n",
       "      <th>84994</th>\n",
       "      <td>84994</td>\n",
       "      <td>[]</td>\n",
       "      <td>[]</td>\n",
       "      <td>0</td>\n",
       "      <td>False</td>\n",
       "      <td>False</td>\n",
       "      <td>True</td>\n",
       "      <td>True</td>\n",
       "      <td>False</td>\n",
       "    </tr>\n",
       "    <tr>\n",
       "      <th>84995</th>\n",
       "      <td>84995</td>\n",
       "      <td>[]</td>\n",
       "      <td>[]</td>\n",
       "      <td>0</td>\n",
       "      <td>False</td>\n",
       "      <td>False</td>\n",
       "      <td>True</td>\n",
       "      <td>True</td>\n",
       "      <td>False</td>\n",
       "    </tr>\n",
       "    <tr>\n",
       "      <th>84996</th>\n",
       "      <td>84996</td>\n",
       "      <td>[]</td>\n",
       "      <td>[famechi]</td>\n",
       "      <td>0</td>\n",
       "      <td>False</td>\n",
       "      <td>False</td>\n",
       "      <td>True</td>\n",
       "      <td>True</td>\n",
       "      <td>False</td>\n",
       "    </tr>\n",
       "    <tr>\n",
       "      <th>84997</th>\n",
       "      <td>84997</td>\n",
       "      <td>[]</td>\n",
       "      <td>[]</td>\n",
       "      <td>0</td>\n",
       "      <td>False</td>\n",
       "      <td>False</td>\n",
       "      <td>True</td>\n",
       "      <td>True</td>\n",
       "      <td>False</td>\n",
       "    </tr>\n",
       "    <tr>\n",
       "      <th>84998</th>\n",
       "      <td>84998</td>\n",
       "      <td>[]</td>\n",
       "      <td>[]</td>\n",
       "      <td>0</td>\n",
       "      <td>False</td>\n",
       "      <td>False</td>\n",
       "      <td>True</td>\n",
       "      <td>True</td>\n",
       "      <td>False</td>\n",
       "    </tr>\n",
       "    <tr>\n",
       "      <th>84999</th>\n",
       "      <td>84999</td>\n",
       "      <td>[]</td>\n",
       "      <td>[tasshil, pouvez, acheter, portable, choix, pa...</td>\n",
       "      <td>0</td>\n",
       "      <td>True</td>\n",
       "      <td>False</td>\n",
       "      <td>True</td>\n",
       "      <td>True</td>\n",
       "      <td>True</td>\n",
       "    </tr>\n",
       "  </tbody>\n",
       "</table>\n",
       "</div>"
      ],
      "text/plain": [
       "          Id          c                                                  r  y  \\\n",
       "84980  84980  [youssfi]                                         [aamaltlk]  1   \n",
       "84981  84981  [youssfi]               [yeb9a, ayem, bech, tarja3, oreedoo]  0   \n",
       "84982  84982  [youssfi]  [bellehi, n7eb, nefhem, wa7da, quelque, teleco...  0   \n",
       "84983  84983  [youssfi]                                                 []  0   \n",
       "84984  84984  [youssfi]                                          [youssfi]  0   \n",
       "84985  84985  [youssfi]                                      [application]  0   \n",
       "84986  84986  [youssfi]                                                 []  0   \n",
       "84987  84987  [youssfi]                                     [rihem, nouri]  0   \n",
       "84988  84988  [youssfi]                                             [atef]  0   \n",
       "84989  84989  [youssfi]                                                 []  0   \n",
       "84990  84990         []            [composez, renouvellement, automatique]  1   \n",
       "84991  84991         []  [mtei, noumrouya, mahbech, ibthli, coed, kouli...  0   \n",
       "84992  84992         []                                        [mahlakoum]  0   \n",
       "84993  84993         []  [bech, nbdel, puce, o5rra, yesser, mstouha, ra...  0   \n",
       "84994  84994         []                                                 []  0   \n",
       "84995  84995         []                                                 []  0   \n",
       "84996  84996         []                                          [famechi]  0   \n",
       "84997  84997         []                                                 []  0   \n",
       "84998  84998         []                                                 []  0   \n",
       "84999  84999         []  [tasshil, pouvez, acheter, portable, choix, pa...  0   \n",
       "\n",
       "      Expert   Last ExpInv  Qlast Similar  \n",
       "84980  False  False  False  False   False  \n",
       "84981  False  False  False  False    True  \n",
       "84982  False  False  False  False    True  \n",
       "84983  False  False  False  False   False  \n",
       "84984  False  False  False  False   False  \n",
       "84985  False  False  False  False    True  \n",
       "84986  False  False  False  False   False  \n",
       "84987  False  False  False  False   False  \n",
       "84988   True  False  False  False    True  \n",
       "84989  False  False  False  False   False  \n",
       "84990   True  False   True   True    True  \n",
       "84991  False  False   True   True    True  \n",
       "84992  False  False   True   True   False  \n",
       "84993  False  False   True   True    True  \n",
       "84994  False  False   True   True   False  \n",
       "84995  False  False   True   True   False  \n",
       "84996  False  False   True   True   False  \n",
       "84997  False  False   True   True   False  \n",
       "84998  False  False   True   True   False  \n",
       "84999   True  False   True   True    True  "
      ]
     },
     "execution_count": 51,
     "metadata": {},
     "output_type": "execute_result"
    }
   ],
   "source": [
    "data.tail(20)"
   ]
  },
  {
   "cell_type": "code",
   "execution_count": 108,
   "metadata": {},
   "outputs": [],
   "source": [
    "List1=[]\n",
    "for index,row in data.iterrows():\n",
    "    SimilarWords=[]\n",
    "    for word in row['r']:\n",
    "        try:\n",
    "            L=model.most_similar(positive=[word])\n",
    "        except:\n",
    "            continue;\n",
    "        for wd in L:\n",
    "            SimilarWords.append(wd[0])\n",
    "    List1.append(SimilarWords)        "
   ]
  },
  {
   "cell_type": "code",
   "execution_count": 113,
   "metadata": {},
   "outputs": [],
   "source": [
    "data['rSimilar']=List1"
   ]
  },
  {
   "cell_type": "code",
   "execution_count": 109,
   "metadata": {},
   "outputs": [],
   "source": [
    "List2=[]\n",
    "for index,row in data.iterrows():\n",
    "    SimilarWords=[]\n",
    "    for word in row['c']:\n",
    "        try:\n",
    "            L=model.most_similar(positive=[word])\n",
    "        except:\n",
    "            continue;\n",
    "        for wd in L:\n",
    "            SimilarWords.append(wd[0])\n",
    "    List2.append(SimilarWords)     "
   ]
  },
  {
   "cell_type": "code",
   "execution_count": 114,
   "metadata": {},
   "outputs": [],
   "source": [
    "data['cSimilar']=List2"
   ]
  },
  {
   "cell_type": "code",
   "execution_count": 115,
   "metadata": {},
   "outputs": [
    {
     "data": {
      "text/html": [
       "<div>\n",
       "<style scoped>\n",
       "    .dataframe tbody tr th:only-of-type {\n",
       "        vertical-align: middle;\n",
       "    }\n",
       "\n",
       "    .dataframe tbody tr th {\n",
       "        vertical-align: top;\n",
       "    }\n",
       "\n",
       "    .dataframe thead th {\n",
       "        text-align: right;\n",
       "    }\n",
       "</style>\n",
       "<table border=\"1\" class=\"dataframe\">\n",
       "  <thead>\n",
       "    <tr style=\"text-align: right;\">\n",
       "      <th></th>\n",
       "      <th>Id</th>\n",
       "      <th>c</th>\n",
       "      <th>r</th>\n",
       "      <th>y</th>\n",
       "      <th>Expert</th>\n",
       "      <th>Last</th>\n",
       "      <th>ExpInv</th>\n",
       "      <th>Qlast</th>\n",
       "      <th>Similar</th>\n",
       "      <th>rSimilar</th>\n",
       "      <th>cSimilar</th>\n",
       "    </tr>\n",
       "  </thead>\n",
       "  <tbody>\n",
       "    <tr>\n",
       "      <th>0</th>\n",
       "      <td>0</td>\n",
       "      <td>[choisir, bonne, musique, samma3ni, rimo, simp...</td>\n",
       "      <td>[]</td>\n",
       "      <td>1</td>\n",
       "      <td>False</td>\n",
       "      <td>True</td>\n",
       "      <td>True</td>\n",
       "      <td>False</td>\n",
       "      <td>False</td>\n",
       "      <td>[]</td>\n",
       "      <td>[enseigne, partenaire, produit, provence, mode...</td>\n",
       "    </tr>\n",
       "    <tr>\n",
       "      <th>1</th>\n",
       "      <td>1</td>\n",
       "      <td>[choisir, bonne, musique, samma3ni, rimo, simp...</td>\n",
       "      <td>[]</td>\n",
       "      <td>0</td>\n",
       "      <td>False</td>\n",
       "      <td>True</td>\n",
       "      <td>True</td>\n",
       "      <td>False</td>\n",
       "      <td>False</td>\n",
       "      <td>[]</td>\n",
       "      <td>[enseigne, partenaire, produit, provence, mode...</td>\n",
       "    </tr>\n",
       "    <tr>\n",
       "      <th>2</th>\n",
       "      <td>2</td>\n",
       "      <td>[choisir, bonne, musique, samma3ni, rimo, simp...</td>\n",
       "      <td>[mkber]</td>\n",
       "      <td>0</td>\n",
       "      <td>False</td>\n",
       "      <td>True</td>\n",
       "      <td>True</td>\n",
       "      <td>False</td>\n",
       "      <td>False</td>\n",
       "      <td>[]</td>\n",
       "      <td>[enseigne, partenaire, produit, provence, mode...</td>\n",
       "    </tr>\n",
       "    <tr>\n",
       "      <th>3</th>\n",
       "      <td>3</td>\n",
       "      <td>[choisir, bonne, musique, samma3ni, rimo, simp...</td>\n",
       "      <td>[thats, kayle, taswira, mouneka, ommha, check,...</td>\n",
       "      <td>0</td>\n",
       "      <td>False</td>\n",
       "      <td>True</td>\n",
       "      <td>True</td>\n",
       "      <td>False</td>\n",
       "      <td>False</td>\n",
       "      <td>[]</td>\n",
       "      <td>[enseigne, partenaire, produit, provence, mode...</td>\n",
       "    </tr>\n",
       "    <tr>\n",
       "      <th>4</th>\n",
       "      <td>4</td>\n",
       "      <td>[choisir, bonne, musique, samma3ni, rimo, simp...</td>\n",
       "      <td>[dinar]</td>\n",
       "      <td>0</td>\n",
       "      <td>False</td>\n",
       "      <td>True</td>\n",
       "      <td>True</td>\n",
       "      <td>False</td>\n",
       "      <td>True</td>\n",
       "      <td>[mobiflouss, carte, bancaire, utilisateur, mob...</td>\n",
       "      <td>[enseigne, partenaire, produit, provence, mode...</td>\n",
       "    </tr>\n",
       "  </tbody>\n",
       "</table>\n",
       "</div>"
      ],
      "text/plain": [
       "   Id                                                  c  \\\n",
       "0   0  [choisir, bonne, musique, samma3ni, rimo, simp...   \n",
       "1   1  [choisir, bonne, musique, samma3ni, rimo, simp...   \n",
       "2   2  [choisir, bonne, musique, samma3ni, rimo, simp...   \n",
       "3   3  [choisir, bonne, musique, samma3ni, rimo, simp...   \n",
       "4   4  [choisir, bonne, musique, samma3ni, rimo, simp...   \n",
       "\n",
       "                                                   r  y Expert  Last ExpInv  \\\n",
       "0                                                 []  1  False  True   True   \n",
       "1                                                 []  0  False  True   True   \n",
       "2                                            [mkber]  0  False  True   True   \n",
       "3  [thats, kayle, taswira, mouneka, ommha, check,...  0  False  True   True   \n",
       "4                                            [dinar]  0  False  True   True   \n",
       "\n",
       "   Qlast Similar                                           rSimilar  \\\n",
       "0  False   False                                                 []   \n",
       "1  False   False                                                 []   \n",
       "2  False   False                                                 []   \n",
       "3  False   False                                                 []   \n",
       "4  False    True  [mobiflouss, carte, bancaire, utilisateur, mob...   \n",
       "\n",
       "                                            cSimilar  \n",
       "0  [enseigne, partenaire, produit, provence, mode...  \n",
       "1  [enseigne, partenaire, produit, provence, mode...  \n",
       "2  [enseigne, partenaire, produit, provence, mode...  \n",
       "3  [enseigne, partenaire, produit, provence, mode...  \n",
       "4  [enseigne, partenaire, produit, provence, mode...  "
      ]
     },
     "execution_count": 115,
     "metadata": {},
     "output_type": "execute_result"
    }
   ],
   "source": [
    "data.head()"
   ]
  },
  {
   "cell_type": "code",
   "execution_count": 116,
   "metadata": {},
   "outputs": [],
   "source": [
    "def Sim (L1,L2):\n",
    "    for wd in L1:\n",
    "        if wd in L1:\n",
    "            return True;\n",
    "    return False"
   ]
  },
  {
   "cell_type": "code",
   "execution_count": 120,
   "metadata": {},
   "outputs": [],
   "source": [
    "for index, row in data.iterrows():\n",
    "    data.at[index,'similar']=Sim(row['rSimilar'],row['cSimilar'])"
   ]
  },
  {
   "cell_type": "code",
   "execution_count": 52,
   "metadata": {},
   "outputs": [],
   "source": [
    "from sklearn.model_selection import train_test_split\n",
    "import xgboost as xgb"
   ]
  },
  {
   "cell_type": "code",
   "execution_count": 53,
   "metadata": {},
   "outputs": [],
   "source": [
    "from sklearn.metrics import log_loss"
   ]
  },
  {
   "cell_type": "code",
   "execution_count": 196,
   "metadata": {},
   "outputs": [],
   "source": [
    "X = data[['Expert','Last','ExpInv','Qlast']]\n",
    "y=data.y"
   ]
  },
  {
   "cell_type": "code",
   "execution_count": 197,
   "metadata": {},
   "outputs": [],
   "source": [
    "X.Expert=X.Expert.apply(bool)  \n",
    "X.Last=X.Last.apply(bool)       \n",
    "X.ExpInv=X.ExpInv.apply(bool)     \n",
    "X.Qlast=X.Qlast.apply(bool)      \n",
    "#X.similar=X.similar.apply(bool)"
   ]
  },
  {
   "cell_type": "code",
   "execution_count": 198,
   "metadata": {},
   "outputs": [
    {
     "data": {
      "text/plain": [
       "Expert    bool\n",
       "Last      bool\n",
       "ExpInv    bool\n",
       "Qlast     bool\n",
       "dtype: object"
      ]
     },
     "execution_count": 198,
     "metadata": {},
     "output_type": "execute_result"
    }
   ],
   "source": [
    "X.dtypes"
   ]
  },
  {
   "cell_type": "code",
   "execution_count": 199,
   "metadata": {},
   "outputs": [],
   "source": [
    "Xtrain=X[:68000]\n",
    "ytrain=y[:68000]\n",
    "Xtest=X[68000:]\n",
    "ytest=y[68000:]"
   ]
  },
  {
   "cell_type": "code",
   "execution_count": 152,
   "metadata": {},
   "outputs": [],
   "source": [
    "from sklearn.ensemble import RandomForestClassifier\n",
    "from sklearn.datasets import make_classification"
   ]
  },
  {
   "cell_type": "code",
   "execution_count": 201,
   "metadata": {},
   "outputs": [
    {
     "data": {
      "text/plain": [
       "RandomForestClassifier(bootstrap=True, class_weight=None, criterion='gini',\n",
       "            max_depth=2, max_features='auto', max_leaf_nodes=None,\n",
       "            min_impurity_decrease=0.0, min_impurity_split=None,\n",
       "            min_samples_leaf=1, min_samples_split=2,\n",
       "            min_weight_fraction_leaf=0.0, n_estimators=200, n_jobs=None,\n",
       "            oob_score=False, random_state=0, verbose=0, warm_start=False)"
      ]
     },
     "execution_count": 201,
     "metadata": {},
     "output_type": "execute_result"
    }
   ],
   "source": [
    "clf = RandomForestClassifier(n_estimators=200, max_depth=2,random_state=0)\n",
    "clf.fit(Xtrain, ytrain)  "
   ]
  },
  {
   "cell_type": "code",
   "execution_count": 202,
   "metadata": {},
   "outputs": [],
   "source": [
    "preds=clf.predict(Xtest)"
   ]
  },
  {
   "cell_type": "code",
   "execution_count": 203,
   "metadata": {},
   "outputs": [
    {
     "data": {
      "text/plain": [
       "3.453957599234089"
      ]
     },
     "execution_count": 203,
     "metadata": {},
     "output_type": "execute_result"
    }
   ],
   "source": [
    "log_loss(list(preds),list(ytest),labels=[0, 1])"
   ]
  },
  {
   "cell_type": "code",
   "execution_count": 61,
   "metadata": {},
   "outputs": [],
   "source": [
    "with open('test.pkl', 'rb') as f:\n",
    "    test = pickle.load(f)"
   ]
  },
  {
   "cell_type": "code",
   "execution_count": 64,
   "metadata": {},
   "outputs": [],
   "source": [
    "for index,row in test.iterrows():\n",
    "    # is it an answer of an expert ?\n",
    "    test.at[index,'Expert']=IsExpert(row['r'])\n",
    "    #seperate comments\n",
    "    text = row['c'].split('_t_')\n",
    "    #was the last comment of the conversation made by an expert ?\n",
    "    test.at[index,'Last']=IsExpert(text[-1])\n",
    "    #was an expert involved in the discussion ?\n",
    "    test.at[index,'ExpInv']=IsExpert(row['c'])\n",
    "    #is the last comment of the conversation a question ?\n",
    "    test.at[index,'Qlast']=IsQuestion(text[-1])\n",
    "    "
   ]
  },
  {
   "cell_type": "code",
   "execution_count": 65,
   "metadata": {},
   "outputs": [],
   "source": [
    "for index,row in test.iterrows():\n",
    "    test.at[index,'Similar']=Similar(row['r'])"
   ]
  },
  {
   "cell_type": "code",
   "execution_count": 127,
   "metadata": {},
   "outputs": [],
   "source": [
    "List1=[]\n",
    "for index,row in test.iterrows():\n",
    "    SimilarWords=[]\n",
    "    for word in row['r']:\n",
    "        try:\n",
    "            L=model.most_similar(positive=[word])\n",
    "        except:\n",
    "            continue;\n",
    "        for wd in L:\n",
    "            SimilarWords.append(wd[0])\n",
    "    List1.append(SimilarWords)        "
   ]
  },
  {
   "cell_type": "code",
   "execution_count": 128,
   "metadata": {},
   "outputs": [],
   "source": [
    "test['rSimilar']=List1"
   ]
  },
  {
   "cell_type": "code",
   "execution_count": 129,
   "metadata": {},
   "outputs": [],
   "source": [
    "List2=[]\n",
    "for index,row in test.iterrows():\n",
    "    SimilarWords=[]\n",
    "    for word in row['c']:\n",
    "        try:\n",
    "            L=model.most_similar(positive=[word])\n",
    "        except:\n",
    "            continue;\n",
    "        for wd in L:\n",
    "            SimilarWords.append(wd[0])\n",
    "    List2.append(SimilarWords)        "
   ]
  },
  {
   "cell_type": "code",
   "execution_count": 130,
   "metadata": {},
   "outputs": [],
   "source": [
    "test['cSimilar']=List2"
   ]
  },
  {
   "cell_type": "code",
   "execution_count": 133,
   "metadata": {},
   "outputs": [],
   "source": [
    "for index, row in test.iterrows():\n",
    "    test.at[index,'similar']=Sim(row['rSimilar'],row['cSimilar'])"
   ]
  },
  {
   "cell_type": "code",
   "execution_count": 66,
   "metadata": {},
   "outputs": [
    {
     "data": {
      "text/html": [
       "<div>\n",
       "<style scoped>\n",
       "    .dataframe tbody tr th:only-of-type {\n",
       "        vertical-align: middle;\n",
       "    }\n",
       "\n",
       "    .dataframe tbody tr th {\n",
       "        vertical-align: top;\n",
       "    }\n",
       "\n",
       "    .dataframe thead th {\n",
       "        text-align: right;\n",
       "    }\n",
       "</style>\n",
       "<table border=\"1\" class=\"dataframe\">\n",
       "  <thead>\n",
       "    <tr style=\"text-align: right;\">\n",
       "      <th></th>\n",
       "      <th>Id</th>\n",
       "      <th>c</th>\n",
       "      <th>r</th>\n",
       "      <th>Expert</th>\n",
       "      <th>Last</th>\n",
       "      <th>ExpInv</th>\n",
       "      <th>Qlast</th>\n",
       "      <th>Similar</th>\n",
       "    </tr>\n",
       "  </thead>\n",
       "  <tbody>\n",
       "    <tr>\n",
       "      <th>0</th>\n",
       "      <td>0</td>\n",
       "      <td>_t_ Yrem _t_  _t_ lords نسيطرو عليهم الغروبات...</td>\n",
       "      <td>Răchëd MhāmDī</td>\n",
       "      <td>False</td>\n",
       "      <td>False</td>\n",
       "      <td>False</td>\n",
       "      <td>False</td>\n",
       "      <td>False</td>\n",
       "    </tr>\n",
       "    <tr>\n",
       "      <th>1</th>\n",
       "      <td>1</td>\n",
       "      <td>_t_ Yrem _t_  _t_ lords نسيطرو عليهم الغروبات...</td>\n",
       "      <td>انا.منحبش.مسي.انحب.رونالدو</td>\n",
       "      <td>False</td>\n",
       "      <td>False</td>\n",
       "      <td>False</td>\n",
       "      <td>False</td>\n",
       "      <td>False</td>\n",
       "    </tr>\n",
       "    <tr>\n",
       "      <th>2</th>\n",
       "      <td>2</td>\n",
       "      <td>_t_ Yrem _t_  _t_ lords نسيطرو عليهم الغروبات...</td>\n",
       "      <td>الmarketing like</td>\n",
       "      <td>False</td>\n",
       "      <td>False</td>\n",
       "      <td>False</td>\n",
       "      <td>False</td>\n",
       "      <td>False</td>\n",
       "    </tr>\n",
       "    <tr>\n",
       "      <th>3</th>\n",
       "      <td>3</td>\n",
       "      <td>_t_ Yrem _t_  _t_ lords نسيطرو عليهم الغروبات...</td>\n",
       "      <td>اخيب حاجة عملتها حياتي شريت اوريدو</td>\n",
       "      <td>False</td>\n",
       "      <td>False</td>\n",
       "      <td>False</td>\n",
       "      <td>False</td>\n",
       "      <td>False</td>\n",
       "    </tr>\n",
       "    <tr>\n",
       "      <th>4</th>\n",
       "      <td>4</td>\n",
       "      <td>_t_ Yrem _t_  _t_ lords نسيطرو عليهم الغروبات...</td>\n",
       "      <td>troudouha moch</td>\n",
       "      <td>False</td>\n",
       "      <td>False</td>\n",
       "      <td>False</td>\n",
       "      <td>False</td>\n",
       "      <td>False</td>\n",
       "    </tr>\n",
       "  </tbody>\n",
       "</table>\n",
       "</div>"
      ],
      "text/plain": [
       "   Id                                                  c  \\\n",
       "0   0   _t_ Yrem _t_  _t_ lords نسيطرو عليهم الغروبات...   \n",
       "1   1   _t_ Yrem _t_  _t_ lords نسيطرو عليهم الغروبات...   \n",
       "2   2   _t_ Yrem _t_  _t_ lords نسيطرو عليهم الغروبات...   \n",
       "3   3   _t_ Yrem _t_  _t_ lords نسيطرو عليهم الغروبات...   \n",
       "4   4   _t_ Yrem _t_  _t_ lords نسيطرو عليهم الغروبات...   \n",
       "\n",
       "                                     r Expert   Last ExpInv  Qlast Similar  \n",
       "0                        Răchëd MhāmDī  False  False  False  False   False  \n",
       "1           انا.منحبش.مسي.انحب.رونالدو  False  False  False  False   False  \n",
       "2                    الmarketing like   False  False  False  False   False  \n",
       "3   اخيب حاجة عملتها حياتي شريت اوريدو  False  False  False  False   False  \n",
       "4                      troudouha moch   False  False  False  False   False  "
      ]
     },
     "execution_count": 66,
     "metadata": {},
     "output_type": "execute_result"
    }
   ],
   "source": [
    "test.head()"
   ]
  },
  {
   "cell_type": "code",
   "execution_count": 193,
   "metadata": {},
   "outputs": [],
   "source": [
    "Xsub= test[['Expert','Last','ExpInv','Qlast']]"
   ]
  },
  {
   "cell_type": "code",
   "execution_count": 194,
   "metadata": {},
   "outputs": [],
   "source": [
    "Xsub.Expert=Xsub.Expert.apply(bool)  \n",
    "Xsub.Last=Xsub.Last.apply(bool)       \n",
    "Xsub.ExpInv=Xsub.ExpInv.apply(bool)     \n",
    "Xsub.Qlast=Xsub.Qlast.apply(bool)      \n",
    "#Xsub.similar=Xsub.similar.apply(bool)"
   ]
  },
  {
   "cell_type": "code",
   "execution_count": 181,
   "metadata": {},
   "outputs": [],
   "source": [
    "preds =  clf.predict(Xsub)"
   ]
  },
  {
   "cell_type": "code",
   "execution_count": 206,
   "metadata": {},
   "outputs": [],
   "source": [
    "Sub=pd.DataFrame({'Id':list(test.Id),\n",
    "                 'y':list(preds)})"
   ]
  },
  {
   "cell_type": "code",
   "execution_count": 207,
   "metadata": {},
   "outputs": [],
   "source": [
    "Sub.to_csv('Submission.csv',index=False)"
   ]
  }
 ],
 "metadata": {
  "kernelspec": {
   "display_name": "Python 3",
   "language": "python",
   "name": "python3"
  },
  "language_info": {
   "codemirror_mode": {
    "name": "ipython",
    "version": 3
   },
   "file_extension": ".py",
   "mimetype": "text/x-python",
   "name": "python",
   "nbconvert_exporter": "python",
   "pygments_lexer": "ipython3",
   "version": "3.6.9"
  }
 },
 "nbformat": 4,
 "nbformat_minor": 2
}
